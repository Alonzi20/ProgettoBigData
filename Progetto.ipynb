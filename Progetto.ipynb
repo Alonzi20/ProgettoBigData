{
 "cells": [
  {
   "cell_type": "markdown",
   "id": "819745a8",
   "metadata": {},
   "source": [
    "<font size='4' color='red'>**Obiettivo:**<font>"
   ]
  },
  {
   "cell_type": "markdown",
   "id": "3a49c478",
   "metadata": {},
   "source": [
    "<font size='4'>Analizzeremo i suicidi attraverso dati relativi a 101 paesi d'interesse nel mondo (ad esempio gran parte dell'Africa non è presente, anche solo per la difficoltà di raccolta dei dati), negli ultimi 30 anni circa; per arrivare a capire quale sia il trend  del tasso dei suicidi, comprendere se questo sia preoccupante, se ha avuto una stretta connessione con eventi di crisi internazionali (esempio: crisi economiche) e capire se sia necessario agire in qualche misura per mitigarne l'eventuale ascesa</font>"
   ]
  },
  {
   "cell_type": "markdown",
   "id": "81244d0f",
   "metadata": {},
   "source": [
    "<font size='4' color='red'>**Fonte dei dati:**<font>"
   ]
  },
  {
   "cell_type": "markdown",
   "id": "67541273",
   "metadata": {},
   "source": [
    "<font size='4'>Il dataframe da cui abbiamo preso i dati si trova su Kaggle all'indirizzo seguente: </font>\n",
    "https://www.kaggle.com/datasets/russellyates88/suicide-rates-overview-1985-to-2016\n",
    "<br><font size='4'>In seguito abbiamo eliminato alcune colonne da questo perché non erano utili all'obiettivo da noi posto e creavano solo difficoltà nella lettura </font>"
   ]
  },
  {
   "cell_type": "markdown",
   "id": "df1fee3c",
   "metadata": {},
   "source": [
    "<font size='4' color='red'>**Analisi:**<font>"
   ]
  },
  {
   "cell_type": "code",
   "execution_count": 1,
   "id": "d627107e",
   "metadata": {},
   "outputs": [],
   "source": [
    "import numpy as np\n",
    "import pandas as pd\n",
    "import matplotlib.pyplot as plt"
   ]
  },
  {
   "cell_type": "markdown",
   "id": "8e0a931a",
   "metadata": {},
   "source": [
    "<font size='3'>**Carichiamo il dataset dentro alla nostra variabile df** </font>"
   ]
  },
  {
   "cell_type": "code",
   "execution_count": 2,
   "id": "e8e998d3",
   "metadata": {},
   "outputs": [],
   "source": [
    "#salviamo il dataframe dentro alla variabile df\n",
    "df = pd.read_csv('master.csv')"
   ]
  },
  {
   "cell_type": "code",
   "execution_count": 10,
   "id": "d72fcb2f",
   "metadata": {},
   "outputs": [
    {
     "data": {
      "text/html": [
       "<div>\n",
       "<style scoped>\n",
       "    .dataframe tbody tr th:only-of-type {\n",
       "        vertical-align: middle;\n",
       "    }\n",
       "\n",
       "    .dataframe tbody tr th {\n",
       "        vertical-align: top;\n",
       "    }\n",
       "\n",
       "    .dataframe thead th {\n",
       "        text-align: right;\n",
       "    }\n",
       "</style>\n",
       "<table border=\"1\" class=\"dataframe\">\n",
       "  <thead>\n",
       "    <tr style=\"text-align: right;\">\n",
       "      <th></th>\n",
       "      <th>country</th>\n",
       "      <th>year</th>\n",
       "      <th>sex</th>\n",
       "      <th>age</th>\n",
       "      <th>suicides_no</th>\n",
       "      <th>population</th>\n",
       "    </tr>\n",
       "  </thead>\n",
       "  <tbody>\n",
       "    <tr>\n",
       "      <th>0</th>\n",
       "      <td>Albania</td>\n",
       "      <td>1987</td>\n",
       "      <td>male</td>\n",
       "      <td>15-24 years</td>\n",
       "      <td>21</td>\n",
       "      <td>312900</td>\n",
       "    </tr>\n",
       "    <tr>\n",
       "      <th>1</th>\n",
       "      <td>Albania</td>\n",
       "      <td>1987</td>\n",
       "      <td>male</td>\n",
       "      <td>35-54 years</td>\n",
       "      <td>16</td>\n",
       "      <td>308000</td>\n",
       "    </tr>\n",
       "    <tr>\n",
       "      <th>2</th>\n",
       "      <td>Albania</td>\n",
       "      <td>1987</td>\n",
       "      <td>female</td>\n",
       "      <td>15-24 years</td>\n",
       "      <td>14</td>\n",
       "      <td>289700</td>\n",
       "    </tr>\n",
       "    <tr>\n",
       "      <th>3</th>\n",
       "      <td>Albania</td>\n",
       "      <td>1987</td>\n",
       "      <td>male</td>\n",
       "      <td>75+ years</td>\n",
       "      <td>1</td>\n",
       "      <td>21800</td>\n",
       "    </tr>\n",
       "    <tr>\n",
       "      <th>4</th>\n",
       "      <td>Albania</td>\n",
       "      <td>1987</td>\n",
       "      <td>male</td>\n",
       "      <td>25-34 years</td>\n",
       "      <td>9</td>\n",
       "      <td>274300</td>\n",
       "    </tr>\n",
       "    <tr>\n",
       "      <th>...</th>\n",
       "      <td>...</td>\n",
       "      <td>...</td>\n",
       "      <td>...</td>\n",
       "      <td>...</td>\n",
       "      <td>...</td>\n",
       "      <td>...</td>\n",
       "    </tr>\n",
       "    <tr>\n",
       "      <th>27815</th>\n",
       "      <td>Uzbekistan</td>\n",
       "      <td>2014</td>\n",
       "      <td>female</td>\n",
       "      <td>35-54 years</td>\n",
       "      <td>107</td>\n",
       "      <td>3620833</td>\n",
       "    </tr>\n",
       "    <tr>\n",
       "      <th>27816</th>\n",
       "      <td>Uzbekistan</td>\n",
       "      <td>2014</td>\n",
       "      <td>female</td>\n",
       "      <td>75+ years</td>\n",
       "      <td>9</td>\n",
       "      <td>348465</td>\n",
       "    </tr>\n",
       "    <tr>\n",
       "      <th>27817</th>\n",
       "      <td>Uzbekistan</td>\n",
       "      <td>2014</td>\n",
       "      <td>male</td>\n",
       "      <td>5-14 years</td>\n",
       "      <td>60</td>\n",
       "      <td>2762158</td>\n",
       "    </tr>\n",
       "    <tr>\n",
       "      <th>27818</th>\n",
       "      <td>Uzbekistan</td>\n",
       "      <td>2014</td>\n",
       "      <td>female</td>\n",
       "      <td>5-14 years</td>\n",
       "      <td>44</td>\n",
       "      <td>2631600</td>\n",
       "    </tr>\n",
       "    <tr>\n",
       "      <th>27819</th>\n",
       "      <td>Uzbekistan</td>\n",
       "      <td>2014</td>\n",
       "      <td>female</td>\n",
       "      <td>55-74 years</td>\n",
       "      <td>21</td>\n",
       "      <td>1438935</td>\n",
       "    </tr>\n",
       "  </tbody>\n",
       "</table>\n",
       "<p>27820 rows × 6 columns</p>\n",
       "</div>"
      ],
      "text/plain": [
       "          country  year     sex          age  suicides_no  population\n",
       "0         Albania  1987    male  15-24 years           21      312900\n",
       "1         Albania  1987    male  35-54 years           16      308000\n",
       "2         Albania  1987  female  15-24 years           14      289700\n",
       "3         Albania  1987    male    75+ years            1       21800\n",
       "4         Albania  1987    male  25-34 years            9      274300\n",
       "...           ...   ...     ...          ...          ...         ...\n",
       "27815  Uzbekistan  2014  female  35-54 years          107     3620833\n",
       "27816  Uzbekistan  2014  female    75+ years            9      348465\n",
       "27817  Uzbekistan  2014    male   5-14 years           60     2762158\n",
       "27818  Uzbekistan  2014  female   5-14 years           44     2631600\n",
       "27819  Uzbekistan  2014  female  55-74 years           21     1438935\n",
       "\n",
       "[27820 rows x 6 columns]"
      ]
     },
     "execution_count": 10,
     "metadata": {},
     "output_type": "execute_result"
    }
   ],
   "source": [
    "df"
   ]
  },
  {
   "cell_type": "markdown",
   "id": "750daa57",
   "metadata": {},
   "source": [
    "<font size='3'>**Eliminiamo alcune colonne che non ci interessano** </font>"
   ]
  },
  {
   "cell_type": "code",
   "execution_count": 4,
   "id": "e87a72f4",
   "metadata": {},
   "outputs": [],
   "source": [
    "df.drop('HDI for year', axis=1, inplace = True)"
   ]
  },
  {
   "cell_type": "code",
   "execution_count": 5,
   "id": "eb37e28a",
   "metadata": {},
   "outputs": [],
   "source": [
    "df.drop(df.columns[[9]], axis=1, inplace = True)"
   ]
  },
  {
   "cell_type": "code",
   "execution_count": 6,
   "id": "1d0b2854",
   "metadata": {},
   "outputs": [],
   "source": [
    "df.drop(df.columns[[9]], axis=1, inplace = True)"
   ]
  },
  {
   "cell_type": "code",
   "execution_count": 7,
   "id": "8a6e054b",
   "metadata": {},
   "outputs": [],
   "source": [
    "df.drop(df.columns[[8]], axis=1, inplace = True)"
   ]
  },
  {
   "cell_type": "code",
   "execution_count": 8,
   "id": "6da07813",
   "metadata": {},
   "outputs": [],
   "source": [
    "df.drop(df.columns[[7]], axis=1, inplace = True)"
   ]
  },
  {
   "cell_type": "code",
   "execution_count": 9,
   "id": "eb9be90e",
   "metadata": {},
   "outputs": [],
   "source": [
    "df.drop(df.columns[[6]], axis=1, inplace = True)"
   ]
  },
  {
   "cell_type": "markdown",
   "id": "71c011ed",
   "metadata": {},
   "source": [
    "<font size='3'>**Stampiamo il numero totale di uomini e donne** </font>"
   ]
  },
  {
   "cell_type": "code",
   "execution_count": 11,
   "id": "cf77f01a",
   "metadata": {},
   "outputs": [
    {
     "data": {
      "image/png": "[encoded data removed]",
      "text/plain": [
       "<Figure size 432x288 with 1 Axes>"
      ]
     },
     "metadata": {
      "needs_background": "light"
     },
     "output_type": "display_data"
    }
   ],
   "source": [
    "df.groupby('sex').suicides_no.sum().plot.bar(stacked=True);"
   ]
  },
  {
   "cell_type": "markdown",
   "id": "80a5ffc9",
   "metadata": {},
   "source": [
    "<font size='3'>**Stampiamo il numero di suicidi per fasce d'età** </font>"
   ]
  },
  {
   "cell_type": "code",
   "execution_count": 12,
   "id": "e6260807",
   "metadata": {},
   "outputs": [],
   "source": [
    "#andiamo a creare una variabile order per stabilire in che ordine i dati andranno\n",
    "# poi rappresentati lungo l'asse x dei nostri grafici\n",
    "order = [\"5-14 years\",\"15-24 years\",\"25-34 years\",\"35-54 years\",\"55-74 years\",\"75+ years\"]"
   ]
  },
  {
   "cell_type": "code",
   "execution_count": 13,
   "id": "dd76dc16",
   "metadata": {},
   "outputs": [
    {
     "data": {
      "text/plain": [
       "<AxesSubplot:xlabel='age'>"
      ]
     },
     "execution_count": 13,
     "metadata": {},
     "output_type": "execute_result"
    },
    {
     "data": {
      "image/png": "[encoded data removed]",
      "text/plain": [
       "<Figure size 432x288 with 1 Axes>"
      ]
     },
     "metadata": {
      "needs_background": "light"
     },
     "output_type": "display_data"
    }
   ],
   "source": [
    "#i dati lungo l'asse Y sono da considerarsi in milioni(1e6)\n",
    "a = df.groupby('age').suicides_no.sum()\n",
    "a.loc[order].plot.bar()"
   ]
  },
  {
   "cell_type": "markdown",
   "id": "69316e4f",
   "metadata": {},
   "source": [
    "<font size='3'>**Stampiamo il numero di suicidi per fasce d'età, divisi per sesso** </font>"
   ]
  },
  {
   "cell_type": "code",
   "execution_count": 14,
   "id": "91adc6a0",
   "metadata": {},
   "outputs": [
    {
     "data": {
      "image/png": "[encoded data removed]",
      "text/plain": [
       "<Figure size 432x288 with 1 Axes>"
      ]
     },
     "metadata": {
      "needs_background": "light"
     },
     "output_type": "display_data"
    }
   ],
   "source": [
    "#i dati lungo l'asse Y sono da considerarsi in milioni(1e6)\n",
    "b = df.groupby(['age', 'sex']).suicides_no.sum()\n",
    "b.unstack().loc[order].plot.bar().set_ylim(10000,2000000);"
   ]
  },
  {
   "cell_type": "markdown",
   "id": "053c5668",
   "metadata": {},
   "source": [
    "<font size='3'>**Stampiamo il numero di suicidi per anno** </font>"
   ]
  },
  {
   "cell_type": "code",
   "execution_count": 15,
   "id": "0f79affd",
   "metadata": {},
   "outputs": [
    {
     "data": {
      "image/png": "[encoded data removed]",
      "text/plain": [
       "<Figure size 432x288 with 1 Axes>"
      ]
     },
     "metadata": {
      "needs_background": "light"
     },
     "output_type": "display_data"
    }
   ],
   "source": [
    "df.groupby('year').suicides_no.sum().plot.bar(stacked=True);"
   ]
  },
  {
   "cell_type": "markdown",
   "id": "b787c8a3",
   "metadata": {},
   "source": [
    "<font size='4' color='red'>**Conclusioni analisi:**<font>"
   ]
  },
  {
   "cell_type": "markdown",
   "id": "cd7523a9",
   "metadata": {},
   "source": [
    "<font size='3'>Dal primo grafico possiamo vedere che il numero di suicidi maschili è molto maggiore rispetto a quello dei suicidi femminili; sapendo che una delle cause note è quella della crisi economica familiare e che nella società è sempre stato percepito come compito dell'uomo badare alle necessità finanziarie, il dato evidenziato non sorprende<font>"
   ]
  },
  {
   "cell_type": "markdown",
   "id": "a9f6f28c",
   "metadata": {},
   "source": [
    "<font size='3'>Dal secondo e terzo grafico si nota che le fasce centrali sono quelle con valori maggiori, cosa che ci si può aspettare date le maggiori responsabilità e difficoltà che in genere si incontrano in quegli anni di vita e che si può ricondurre anche alle conclusioni tratte riguardo il primo grafico. <br> Il valore evidenziato dalla fascia 15-24 anni sottolinea invece che probabilmente esistono altre forti cause di suicidi, dato che in gran parte in quell'età si è ancora supportati dai genitori; perciò possiamo ricondurre le cause all'ambito dei problemi di natura mentale e/o sociale (che sono comunque cause note di suicidi in generale e che influenzano tutte le fasce)<font>"
   ]
  },
  {
   "cell_type": "markdown",
   "id": "52ef3d81",
   "metadata": {},
   "source": [
    "<font size='3'>Infine dai dati del quarto grafico si evince che da fine anni '80 c'è stato un notevole incremento di suicidi, non ne è possibile determinare con certezza la causa, anche perché non è stato un periodo in cui vi sono verificate particolari crisi socioeconomiche. <br> Contro le nostre aspettative quando invece ci fu una vera e propria crisi globale intorno al 2008 non avvenne un conseguente innalzamento del numero di suicidi, se non per un singolo anno(2009)<font>"
   ]
  },
  {
   "cell_type": "markdown",
   "id": "43bfd679",
   "metadata": {},
   "source": [
    "<font size='4' color='red'>**Regressione lineare** </font>"
   ]
  },
  {
   "cell_type": "code",
   "execution_count": 16,
   "id": "150581dd",
   "metadata": {},
   "outputs": [],
   "source": [
    "from sklearn import datasets\n",
    "from sklearn.model_selection import train_test_split\n",
    "from sklearn.linear_model import LinearRegression\n",
    "from sklearn.metrics import mean_squared_error, r2_score"
   ]
  },
  {
   "cell_type": "code",
   "execution_count": 17,
   "id": "680fe400",
   "metadata": {},
   "outputs": [
    {
     "data": {
      "text/plain": [
       "<matplotlib.collections.PathCollection at 0x7fe3500338e0>"
      ]
     },
     "execution_count": 17,
     "metadata": {},
     "output_type": "execute_result"
    },
    {
     "data": {
      "image/png": "[encoded data removed]",
      "text/plain": [
       "<Figure size 432x288 with 1 Axes>"
      ]
     },
     "metadata": {
      "needs_background": "light"
     },
     "output_type": "display_data"
    }
   ],
   "source": [
    "#assegniamo Y e X per la regressione, al primo assegniamo il numero di suicidi per anno, al secondo gli anni\n",
    "Y = df.groupby('year').suicides_no.sum().to_numpy()\n",
    "X = df['year'].unique().reshape(-1,1)\n",
    "\n",
    "plt.scatter(X, Y)"
   ]
  },
  {
   "cell_type": "markdown",
   "id": "5c99d631",
   "metadata": {},
   "source": [
    "<font size='3'>**Escludiamo i dati relativi all'anno 2016, essendo incompleti** </font>"
   ]
  },
  {
   "cell_type": "code",
   "execution_count": 18,
   "id": "f553e43c",
   "metadata": {},
   "outputs": [],
   "source": [
    "X = X[:-1]"
   ]
  },
  {
   "cell_type": "code",
   "execution_count": 19,
   "id": "a81908e7",
   "metadata": {},
   "outputs": [],
   "source": [
    "Y = Y[:-1]"
   ]
  },
  {
   "cell_type": "code",
   "execution_count": 20,
   "id": "2cb0c03e",
   "metadata": {},
   "outputs": [
    {
     "data": {
      "text/plain": [
       "<matplotlib.collections.PathCollection at 0x7fe3810a0820>"
      ]
     },
     "execution_count": 20,
     "metadata": {},
     "output_type": "execute_result"
    },
    {
     "data": {
      "image/png": "[encoded data removed]",
      "text/plain": [
       "<Figure size 432x288 with 1 Axes>"
      ]
     },
     "metadata": {
      "needs_background": "light"
     },
     "output_type": "display_data"
    }
   ],
   "source": [
    "plt.scatter(X, Y)"
   ]
  },
  {
   "cell_type": "code",
   "execution_count": 21,
   "id": "71a374d9",
   "metadata": {},
   "outputs": [
    {
     "data": {
      "image/png": "[encoded data removed]",
      "text/plain": [
       "<Figure size 432x288 with 1 Axes>"
      ]
     },
     "metadata": {
      "needs_background": "light"
     },
     "output_type": "display_data"
    }
   ],
   "source": [
    "#splittiamo i dati in due set, quello di train per allenare la regressione\n",
    "#e quello di test per verificarne il funzionamento \n",
    "X_train, X_test, Y_train, Y_test = train_test_split(X, Y, test_size = 0.2, random_state = 1)\n",
    "plt.scatter(X_train, Y_train, label='train set')\n",
    "plt.scatter(X_test, Y_test, label='test set')\n",
    "plt.legend()\n",
    "plt.show()"
   ]
  },
  {
   "cell_type": "code",
   "execution_count": 22,
   "id": "00fda30d",
   "metadata": {},
   "outputs": [],
   "source": [
    "#creiamo la regressione \n",
    "reg = LinearRegression()"
   ]
  },
  {
   "cell_type": "code",
   "execution_count": 23,
   "id": "9a6d42f6",
   "metadata": {},
   "outputs": [
    {
     "data": {
      "text/plain": [
       "LinearRegression()"
      ]
     },
     "execution_count": 23,
     "metadata": {},
     "output_type": "execute_result"
    }
   ],
   "source": [
    "#alleniamo la regressione sul train set\n",
    "reg.fit(X_train, Y_train)"
   ]
  },
  {
   "cell_type": "code",
   "execution_count": 24,
   "id": "23015fee",
   "metadata": {},
   "outputs": [],
   "source": [
    "#effettuiamo la previsione passandogli il test set\n",
    "Y_pred = reg.predict(X_test)"
   ]
  },
  {
   "cell_type": "code",
   "execution_count": 25,
   "id": "cbd9530c",
   "metadata": {},
   "outputs": [
    {
     "data": {
      "image/png": "[encoded data removed]",
      "text/plain": [
       "<Figure size 432x288 with 1 Axes>"
      ]
     },
     "metadata": {
      "needs_background": "light"
     },
     "output_type": "display_data"
    }
   ],
   "source": [
    "plt.scatter(X_test, Y_test, label='test set')\n",
    "plt.plot(X_test, Y_pred, color='red', label='predicted values')\n",
    "plt.legend()\n",
    "plt.show()"
   ]
  },
  {
   "cell_type": "markdown",
   "id": "40d91920",
   "metadata": {},
   "source": [
    "<font size='4' color='red'>**Conclusioni regressione lineare:**<font>"
   ]
  },
  {
   "cell_type": "markdown",
   "id": "81fe72c9",
   "metadata": {},
   "source": [
    "<font size='3'>La regressione lineare ci rende chiaro che negli ultimi 30 anni il trend del tasso di suicidi è stato in ascesa, però possiamo andare a considerare almeno altri due fattori che ci fanno pensare che il trend non sia in forma di un'ascesa allarmante: il primo è che anche la popolazione mondiale è in forte aumento, quindi è normale l'innalzamento anche di questo parametro; il secondo è che questa impennata è fortemente influenzata dall'incremento di fine anni '80, mentre i dati degli ultimi anni non fanno pensare a un problema su cui serva agire nell'immediato. <br>Infatti possiamo osservare che intorno al 2010 la retta data dalla regressione lineare prospettava valori maggiori di quelli reali. <font>"
   ]
  },
  {
   "cell_type": "markdown",
   "id": "cabfde56",
   "metadata": {},
   "source": [
    "<font size='3'>Lonzi Alex, Signorini Luca<font>"
   ]
  }
 ],
 "metadata": {
  "kernelspec": {
   "display_name": "Python 3 (ipykernel)",
   "language": "python",
   "name": "python3"
  },
  "language_info": {
   "codemirror_mode": {
    "name": "ipython",
    "version": 3
   },
   "file_extension": ".py",
   "mimetype": "text/x-python",
   "name": "python",
   "nbconvert_exporter": "python",
   "pygments_lexer": "ipython3",
   "version": "3.9.12"
  },
  "vscode": {
   "interpreter": {
    "hash": "cd78fef2128015050713e82ca51c6520b11aee7c9ee8df750520bbbc7384cbaa"
   }
  }
 },
 "nbformat": 4,
 "nbformat_minor": 5
}
