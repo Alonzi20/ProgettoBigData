{
 "cells": [
  {
   "cell_type": "code",
   "execution_count": 1,
   "id": "d627107e",
   "metadata": {},
   "outputs": [],
   "source": [
    "import numpy as np\n",
    "import pandas as pd\n",
    "import matplotlib.pyplot as plt"
   ]
  },
  {
   "cell_type": "markdown",
   "id": "8e0a931a",
   "metadata": {},
   "source": [
    "<font size='4'>**Carichiamo il dataset dentro alla nostra variabile df** </font>"
   ]
  },
  {
   "cell_type": "code",
   "execution_count": 2,
   "id": "e8e998d3",
   "metadata": {},
   "outputs": [],
   "source": [
    "#salviamo il dataframe dentro alla variabile df\n",
    "df = pd.read_csv('master.csv')"
   ]
  },
  {
   "cell_type": "code",
   "execution_count": 12,
   "id": "d72fcb2f",
   "metadata": {},
   "outputs": [
    {
     "data": {
      "text/html": [
       "<div>\n",
       "<style scoped>\n",
       "    .dataframe tbody tr th:only-of-type {\n",
       "        vertical-align: middle;\n",
       "    }\n",
       "\n",
       "    .dataframe tbody tr th {\n",
       "        vertical-align: top;\n",
       "    }\n",
       "\n",
       "    .dataframe thead th {\n",
       "        text-align: right;\n",
       "    }\n",
       "</style>\n",
       "<table border=\"1\" class=\"dataframe\">\n",
       "  <thead>\n",
       "    <tr style=\"text-align: right;\">\n",
       "      <th></th>\n",
       "      <th>country</th>\n",
       "      <th>year</th>\n",
       "      <th>sex</th>\n",
       "      <th>age</th>\n",
       "      <th>suicides_no</th>\n",
       "      <th>population</th>\n",
       "    </tr>\n",
       "  </thead>\n",
       "  <tbody>\n",
       "    <tr>\n",
       "      <th>0</th>\n",
       "      <td>Albania</td>\n",
       "      <td>1987</td>\n",
       "      <td>male</td>\n",
       "      <td>15-24 years</td>\n",
       "      <td>21</td>\n",
       "      <td>312900</td>\n",
       "    </tr>\n",
       "    <tr>\n",
       "      <th>1</th>\n",
       "      <td>Albania</td>\n",
       "      <td>1987</td>\n",
       "      <td>male</td>\n",
       "      <td>35-54 years</td>\n",
       "      <td>16</td>\n",
       "      <td>308000</td>\n",
       "    </tr>\n",
       "    <tr>\n",
       "      <th>2</th>\n",
       "      <td>Albania</td>\n",
       "      <td>1987</td>\n",
       "      <td>female</td>\n",
       "      <td>15-24 years</td>\n",
       "      <td>14</td>\n",
       "      <td>289700</td>\n",
       "    </tr>\n",
       "    <tr>\n",
       "      <th>3</th>\n",
       "      <td>Albania</td>\n",
       "      <td>1987</td>\n",
       "      <td>male</td>\n",
       "      <td>75+ years</td>\n",
       "      <td>1</td>\n",
       "      <td>21800</td>\n",
       "    </tr>\n",
       "    <tr>\n",
       "      <th>4</th>\n",
       "      <td>Albania</td>\n",
       "      <td>1987</td>\n",
       "      <td>male</td>\n",
       "      <td>25-34 years</td>\n",
       "      <td>9</td>\n",
       "      <td>274300</td>\n",
       "    </tr>\n",
       "    <tr>\n",
       "      <th>...</th>\n",
       "      <td>...</td>\n",
       "      <td>...</td>\n",
       "      <td>...</td>\n",
       "      <td>...</td>\n",
       "      <td>...</td>\n",
       "      <td>...</td>\n",
       "    </tr>\n",
       "    <tr>\n",
       "      <th>27815</th>\n",
       "      <td>Uzbekistan</td>\n",
       "      <td>2014</td>\n",
       "      <td>female</td>\n",
       "      <td>35-54 years</td>\n",
       "      <td>107</td>\n",
       "      <td>3620833</td>\n",
       "    </tr>\n",
       "    <tr>\n",
       "      <th>27816</th>\n",
       "      <td>Uzbekistan</td>\n",
       "      <td>2014</td>\n",
       "      <td>female</td>\n",
       "      <td>75+ years</td>\n",
       "      <td>9</td>\n",
       "      <td>348465</td>\n",
       "    </tr>\n",
       "    <tr>\n",
       "      <th>27817</th>\n",
       "      <td>Uzbekistan</td>\n",
       "      <td>2014</td>\n",
       "      <td>male</td>\n",
       "      <td>5-14 years</td>\n",
       "      <td>60</td>\n",
       "      <td>2762158</td>\n",
       "    </tr>\n",
       "    <tr>\n",
       "      <th>27818</th>\n",
       "      <td>Uzbekistan</td>\n",
       "      <td>2014</td>\n",
       "      <td>female</td>\n",
       "      <td>5-14 years</td>\n",
       "      <td>44</td>\n",
       "      <td>2631600</td>\n",
       "    </tr>\n",
       "    <tr>\n",
       "      <th>27819</th>\n",
       "      <td>Uzbekistan</td>\n",
       "      <td>2014</td>\n",
       "      <td>female</td>\n",
       "      <td>55-74 years</td>\n",
       "      <td>21</td>\n",
       "      <td>1438935</td>\n",
       "    </tr>\n",
       "  </tbody>\n",
       "</table>\n",
       "<p>27820 rows × 6 columns</p>\n",
       "</div>"
      ],
      "text/plain": [
       "          country  year     sex          age  suicides_no  population\n",
       "0         Albania  1987    male  15-24 years           21      312900\n",
       "1         Albania  1987    male  35-54 years           16      308000\n",
       "2         Albania  1987  female  15-24 years           14      289700\n",
       "3         Albania  1987    male    75+ years            1       21800\n",
       "4         Albania  1987    male  25-34 years            9      274300\n",
       "...           ...   ...     ...          ...          ...         ...\n",
       "27815  Uzbekistan  2014  female  35-54 years          107     3620833\n",
       "27816  Uzbekistan  2014  female    75+ years            9      348465\n",
       "27817  Uzbekistan  2014    male   5-14 years           60     2762158\n",
       "27818  Uzbekistan  2014  female   5-14 years           44     2631600\n",
       "27819  Uzbekistan  2014  female  55-74 years           21     1438935\n",
       "\n",
       "[27820 rows x 6 columns]"
      ]
     },
     "execution_count": 12,
     "metadata": {},
     "output_type": "execute_result"
    }
   ],
   "source": [
    "df"
   ]
  },
  {
   "cell_type": "markdown",
   "id": "750daa57",
   "metadata": {},
   "source": [
    "<font size='4'>**Eliminiamo alcune colonne che non ci interessano** </font>"
   ]
  },
  {
   "cell_type": "code",
   "execution_count": 4,
   "id": "e87a72f4",
   "metadata": {},
   "outputs": [],
   "source": [
    "df.drop('HDI for year', axis=1, inplace = True)"
   ]
  },
  {
   "cell_type": "code",
   "execution_count": 5,
   "id": "eb37e28a",
   "metadata": {},
   "outputs": [],
   "source": [
    "df.drop(df.columns[[9]], axis=1, inplace = True)"
   ]
  },
  {
   "cell_type": "code",
   "execution_count": 6,
   "id": "1d0b2854",
   "metadata": {},
   "outputs": [],
   "source": [
    "df.drop(df.columns[[9]], axis=1, inplace = True)"
   ]
  },
  {
   "cell_type": "code",
   "execution_count": 7,
   "id": "8a6e054b",
   "metadata": {},
   "outputs": [],
   "source": [
    "df.drop(df.columns[[8]], axis=1, inplace = True)"
   ]
  },
  {
   "cell_type": "code",
   "execution_count": 8,
   "id": "6da07813",
   "metadata": {},
   "outputs": [],
   "source": [
    "df.drop(df.columns[[7]], axis=1, inplace = True)"
   ]
  },
  {
   "cell_type": "code",
   "execution_count": 9,
   "id": "eb9be90e",
   "metadata": {},
   "outputs": [],
   "source": [
    "df.drop(df.columns[[6]], axis=1, inplace = True)"
   ]
  },
  {
   "cell_type": "markdown",
   "id": "71c011ed",
   "metadata": {},
   "source": [
    "<font size='4'>**Stampiamo il numero totale di uomini e donne** </font>"
   ]
  },
  {
   "cell_type": "code",
   "execution_count": 10,
   "id": "cf77f01a",
   "metadata": {},
   "outputs": [
    {
     "data": {
      "image/png": "[encoded data removed]",
      "text/plain": [
       "<Figure size 432x288 with 1 Axes>"
      ]
     },
     "metadata": {
      "needs_background": "light"
     },
     "output_type": "display_data"
    }
   ],
   "source": [
    "df.groupby('sex').suicides_no.sum().plot.bar(stacked=True);"
   ]
  },
  {
   "cell_type": "markdown",
   "id": "80a5ffc9",
   "metadata": {},
   "source": [
    "<font size='4'>**Stampiamo il numero di suicidi per fasce d'età** </font>"
   ]
  },
  {
   "cell_type": "code",
   "execution_count": 94,
   "id": "e6260807",
   "metadata": {},
   "outputs": [],
   "source": [
    "#andiamo a creare una variabile order per stabilire in che ordine i dati andranno\n",
    "# poi rappresentati lungo l'asse x dei nostri grafici\n",
    "order = [\"5-14 years\",\"15-24 years\",\"25-34 years\",\"35-54 years\",\"55-74 years\",\"75+ years\"]"
   ]
  },
  {
   "cell_type": "code",
   "execution_count": 95,
   "id": "dd76dc16",
   "metadata": {},
   "outputs": [
    {
     "data": {
      "text/plain": [
       "<AxesSubplot:xlabel='age'>"
      ]
     },
     "execution_count": 95,
     "metadata": {},
     "output_type": "execute_result"
    },
    {
     "data": {
      "image/png": "[encoded data removed]",
      "text/plain": [
       "<Figure size 432x288 with 1 Axes>"
      ]
     },
     "metadata": {
      "needs_background": "light"
     },
     "output_type": "display_data"
    }
   ],
   "source": [
    "a = df.groupby('age').suicides_no.sum()\n",
    "a.loc[order].plot.bar()"
   ]
  },
  {
   "attachments": {},
   "cell_type": "markdown",
   "id": "69316e4f",
   "metadata": {},
   "source": [
    "<font size='4'>**Stampiamo il numero di suicidi per fasce d'età, divisi per sesso** </font>"
   ]
  },
  {
   "cell_type": "code",
   "execution_count": 97,
   "id": "91adc6a0",
   "metadata": {},
   "outputs": [
    {
     "data": {
      "image/png": "[encoded data removed]",
      "text/plain": [
       "<Figure size 432x288 with 1 Axes>"
      ]
     },
     "metadata": {
      "needs_background": "light"
     },
     "output_type": "display_data"
    }
   ],
   "source": [
    "b = df.groupby(['age', 'sex']).suicides_no.sum()\n",
    "b.unstack().loc[order].plot.bar().set_ylim(10000,2000000);"
   ]
  },
  {
   "attachments": {},
   "cell_type": "markdown",
   "id": "053c5668",
   "metadata": {},
   "source": [
    "<font size='4'>**Stampiamo il numero di suicidi per anno** </font>"
   ]
  },
  {
   "cell_type": "code",
   "execution_count": 67,
   "id": "0f79affd",
   "metadata": {},
   "outputs": [
    {
     "data": {
      "image/png": "[encoded data removed]",
      "text/plain": [
       "<Figure size 432x288 with 1 Axes>"
      ]
     },
     "metadata": {
      "needs_background": "light"
     },
     "output_type": "display_data"
    }
   ],
   "source": [
    "df.groupby('year').suicides_no.sum().plot.bar(stacked=True);"
   ]
  },
  {
   "attachments": {},
   "cell_type": "markdown",
   "id": "52ef3d81",
   "metadata": {},
   "source": [
    "<font size='2'>Dai dati si evince che da fine anni '80 c'è stato un notevole incremento di suicidi, non ne è possibile determinare con certezza la causa, ma sappiamo che il tasso di suicidi è solito salire a causa, oltre che di crisi familiari e individuali, di crisi socioeconomiche</font>"
   ]
  },
  {
   "cell_type": "markdown",
   "id": "43bfd679",
   "metadata": {},
   "source": [
    "<font size='4'>**Regressione lineare** </font>"
   ]
  },
  {
   "cell_type": "code",
   "execution_count": 78,
   "id": "150581dd",
   "metadata": {},
   "outputs": [],
   "source": [
    "from sklearn import datasets\n",
    "from sklearn.model_selection import train_test_split\n",
    "from sklearn.linear_model import LinearRegression\n",
    "from sklearn.metrics import mean_squared_error, r2_score"
   ]
  },
  {
   "cell_type": "code",
   "execution_count": 80,
   "id": "680fe400",
   "metadata": {},
   "outputs": [
    {
     "data": {
      "text/plain": [
       "<matplotlib.collections.PathCollection at 0x7fc9aa548310>"
      ]
     },
     "execution_count": 80,
     "metadata": {},
     "output_type": "execute_result"
    },
    {
     "data": {
      "image/png": "[encoded data removed]",
      "text/plain": [
       "<Figure size 432x288 with 1 Axes>"
      ]
     },
     "metadata": {
      "needs_background": "light"
     },
     "output_type": "display_data"
    }
   ],
   "source": [
    "#assegnamo X e Y per la regressione, al primo assegnamo il numero di suicidi per anno, al secondo gli anni\n",
    "X = df.groupby('year').suicides_no.sum().to_numpy().reshape(-1,1)\n",
    "Y = df['year'].unique()\n",
    "\n",
    "plt.scatter(X, Y)"
   ]
  },
  {
   "cell_type": "markdown",
   "id": "5c99d631",
   "metadata": {},
   "source": [
    "<font size='4'>**Visto che i dati del 2016 sono incompleti abbiamo deciso di escluderlo** </font>"
   ]
  },
  {
   "cell_type": "code",
   "execution_count": 81,
   "id": "f553e43c",
   "metadata": {},
   "outputs": [],
   "source": [
    "X = X[:-1]"
   ]
  },
  {
   "cell_type": "code",
   "execution_count": 84,
   "id": "a81908e7",
   "metadata": {},
   "outputs": [],
   "source": [
    "Y = Y[:-1]"
   ]
  },
  {
   "cell_type": "code",
   "execution_count": 85,
   "id": "2cb0c03e",
   "metadata": {},
   "outputs": [
    {
     "data": {
      "text/plain": [
       "<matplotlib.collections.PathCollection at 0x7fc9aa760ee0>"
      ]
     },
     "execution_count": 85,
     "metadata": {},
     "output_type": "execute_result"
    },
    {
     "data": {
      "image/png": "[encoded data removed]",
      "text/plain": [
       "<Figure size 432x288 with 1 Axes>"
      ]
     },
     "metadata": {
      "needs_background": "light"
     },
     "output_type": "display_data"
    }
   ],
   "source": [
    "plt.scatter(X, Y)"
   ]
  },
  {
   "cell_type": "code",
   "execution_count": 86,
   "id": "71a374d9",
   "metadata": {},
   "outputs": [
    {
     "data": {
      "image/png": "[encoded data removed]",
      "text/plain": [
       "<Figure size 432x288 with 1 Axes>"
      ]
     },
     "metadata": {
      "needs_background": "light"
     },
     "output_type": "display_data"
    }
   ],
   "source": [
    "#splittiamo i dati in due set, quello di train per allenare la regressione\n",
    "#e quello di test per verificarne in funzionamento \n",
    "X_train, X_test, Y_train, Y_test = train_test_split(X, Y, test_size = 0.2, random_state = 1)\n",
    "plt.scatter(X_train, Y_train, label='train set')\n",
    "plt.scatter(X_test, Y_test, label='test set')\n",
    "plt.legend()\n",
    "plt.show()"
   ]
  },
  {
   "cell_type": "code",
   "execution_count": 87,
   "id": "00fda30d",
   "metadata": {},
   "outputs": [],
   "source": [
    "#creiamo la regressione \n",
    "reg = LinearRegression()"
   ]
  },
  {
   "cell_type": "code",
   "execution_count": 88,
   "id": "9a6d42f6",
   "metadata": {},
   "outputs": [
    {
     "data": {
      "text/plain": [
       "LinearRegression()"
      ]
     },
     "execution_count": 88,
     "metadata": {},
     "output_type": "execute_result"
    }
   ],
   "source": [
    "#alleniamo la regressione sul train set\n",
    "reg.fit(X_train, Y_train)"
   ]
  },
  {
   "cell_type": "code",
   "execution_count": 89,
   "id": "23015fee",
   "metadata": {},
   "outputs": [],
   "source": [
    "#effettuiamo la previsione passandogli il test set\n",
    "Y_pred = reg.predict(X_test)"
   ]
  },
  {
   "cell_type": "code",
   "execution_count": 90,
   "id": "cbd9530c",
   "metadata": {},
   "outputs": [
    {
     "data": {
      "image/png": "[encoded data removed]",
      "text/plain": [
       "<Figure size 432x288 with 1 Axes>"
      ]
     },
     "metadata": {
      "needs_background": "light"
     },
     "output_type": "display_data"
    }
   ],
   "source": [
    "plt.scatter(X_test, Y_test, label='test set')\n",
    "plt.plot(X_test, Y_pred, color='red', label='predicted values')\n",
    "plt.legend()\n",
    "plt.show()"
   ]
  }
 ],
 "metadata": {
  "kernelspec": {
   "display_name": "base",
   "language": "python",
   "name": "python3"
  },
  "language_info": {
   "codemirror_mode": {
    "name": "ipython",
    "version": 3
   },
   "file_extension": ".py",
   "mimetype": "text/x-python",
   "name": "python",
   "nbconvert_exporter": "python",
   "pygments_lexer": "ipython3",
   "version": "3.9.12"
  },
  "vscode": {
   "interpreter": {
    "hash": "cd78fef2128015050713e82ca51c6520b11aee7c9ee8df750520bbbc7384cbaa"
   }
  }
 },
 "nbformat": 4,
 "nbformat_minor": 5
}
